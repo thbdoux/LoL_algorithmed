{
 "cells": [
  {
   "cell_type": "code",
   "execution_count": 13,
   "id": "7d0dfb6b",
   "metadata": {
    "scrolled": true
   },
   "outputs": [],
   "source": [
    "from riotwatcher import LolWatcher, ApiError\n",
    "import pandas as pd\n",
    "import numpy as np\n",
    "import json"
   ]
  },
  {
   "cell_type": "code",
   "execution_count": 14,
   "id": "b9ed6136",
   "metadata": {},
   "outputs": [],
   "source": [
    "json_file = open(\"API_key.json\")\n",
    "API_KEY = json.load(json_file)[\"API_key\"]\n",
    "json_file.close()\n",
    "\n",
    "REGION = 'euw1'\n",
    "REGION_EU = 'europe'\n",
    "watcher = LolWatcher(API_KEY)"
   ]
  },
  {
   "cell_type": "markdown",
   "id": "e545da6c",
   "metadata": {},
   "source": [
    "### Get ID of a user"
   ]
  },
  {
   "cell_type": "code",
   "execution_count": 15,
   "id": "7c669290",
   "metadata": {},
   "outputs": [],
   "source": [
    "def get_id(summoner_name, region='euw1'):\n",
    "    player_id = watcher.summoner.by_name(region, summoner_name)[\"id\"]\n",
    "    return player_id"
   ]
  },
  {
   "cell_type": "markdown",
   "id": "6a1e770c",
   "metadata": {},
   "source": [
    "### Get puuid of a user"
   ]
  },
  {
   "cell_type": "code",
   "execution_count": 16,
   "id": "cd538150",
   "metadata": {},
   "outputs": [],
   "source": [
    "def get_puuid(summoner_name, region='euw1'):\n",
    "    puuid = watcher.summoner.by_name(region, summoner_name)[\"puuid\"]\n",
    "    return puuid"
   ]
  },
  {
   "cell_type": "markdown",
   "id": "ac0ff95f",
   "metadata": {},
   "source": [
    "### Get item name from ID"
   ]
  },
  {
   "cell_type": "code",
   "execution_count": 17,
   "id": "80b372f5",
   "metadata": {},
   "outputs": [],
   "source": [
    "def get_item_name(item_id):\n",
    "    item_version = watcher.data_dragon.versions_for_region(REGION)['n']['item']\n",
    "    item_name = watcher.data_dragon.items(item_version)['data'][str(item_id)]['name']\n",
    "    return item_name"
   ]
  },
  {
   "cell_type": "markdown",
   "id": "cc8716bf",
   "metadata": {},
   "source": [
    " "
   ]
  },
  {
   "cell_type": "markdown",
   "id": "93a7e047",
   "metadata": {},
   "source": [
    "### Generate 1 row of data for specific champion from the history of a user"
   ]
  },
  {
   "cell_type": "code",
   "execution_count": 18,
   "id": "1655c4fd",
   "metadata": {
    "scrolled": true
   },
   "outputs": [],
   "source": [
    "player_puuid = get_puuid(\"Pied à coulisse\")\n",
    "my_matches = watcher.match.matchlist_by_puuid(REGION_EU,player_puuid)"
   ]
  },
  {
   "cell_type": "markdown",
   "id": "c7a4dac4",
   "metadata": {},
   "source": [
    " "
   ]
  },
  {
   "cell_type": "code",
   "execution_count": 38,
   "id": "f4d28db7",
   "metadata": {},
   "outputs": [
    {
     "name": "stdout",
     "output_type": "stream",
     "text": [
      "[]\n",
      "  Champ 1 Champ 2   Champ 3  Champ 4    Champ 5 Champ 6 Champ 7  Champ 8  \\\n",
      "0    Sion    Kayn  Katarina  Caitlyn     Thresh    Sett   Viego  Orianna   \n",
      "1  Darius   Diana     Corki  Caitlyn  TahmKench    Sett  RekSai  Orianna   \n",
      "\n",
      "  Champ 9 Champ 10            Item 1         Item 2             Item 3  \\\n",
      "0    Ashe   Soraka  Plated Steelcaps  Stridebreaker  Refillable Potion   \n",
      "1  Samira    Janna    Doran's Shield  Stridebreaker   Plated Steelcaps   \n",
      "\n",
      "           Item 4         Item 5   Item 6  \n",
      "0  Doran's Shield  Sterak's Gage   Tiamat  \n",
      "1   Sterak's Gage        no item  no item  \n"
     ]
    }
   ],
   "source": [
    "row = []\n",
    "champ_list = []\n",
    "item_list = []\n",
    "data = []\n",
    "\n",
    "df = pd.DataFrame([],columns = [\"Champ 1\",\"Champ 2\",\"Champ 3\",\"Champ 4\",\"Champ 5\",\"Champ 6\",\"Champ 7\",\"Champ 8\",\"Champ 9\",\"Champ 10\",\n",
    "                                \"Item 1\",\"Item 2\",\"Item 3\",\"Item 4\",\"Item 5\",\"Item 6\"])\n",
    "\n",
    "target_champ = 'Sett'\n",
    "matches_number = 16 #number of matches to analyze to found data\n",
    "\n",
    "for L in range(matches_number):\n",
    "\n",
    "    for i in range(10): \n",
    "        test_match = watcher.match.by_id(REGION_EU, my_matches[L])\n",
    "        champion = test_match['info']['participants'][i]['championName']\n",
    "        champ_list = np.append(champ_list,champion)\n",
    "    \n",
    "    if target_champ in champ_list:\n",
    "        target_champ_idx = np.where(champ_list == target_champ)[0][0]\n",
    "        row = champ_list\n",
    "        for k in range(6):\n",
    "                try:\n",
    "                    item_n_str = 'item'+str(k)\n",
    "                    item = get_item_name(test_match['info']['participants'][target_champ_idx][item_n_str])\n",
    "                    row = np.append(row,item)\n",
    "        \n",
    "                except:\n",
    "                    row = np.append(row,'no item')\n",
    "    \n",
    "    \n",
    "    if len(row):\n",
    "        df_len = len(df)\n",
    "        df.loc[df_len] = row\n",
    "    \n",
    "    champ_list = []\n",
    "    row = []\n",
    "    \n",
    "    \n",
    "    \n",
    "\n",
    "print(row)\n",
    "print(df)\n",
    "df.to_csv('Lol_data.csv')"
   ]
  },
  {
   "cell_type": "code",
   "execution_count": null,
   "id": "930678c8",
   "metadata": {},
   "outputs": [],
   "source": []
  }
 ],
 "metadata": {
  "kernelspec": {
   "display_name": "Python 3 (ipykernel)",
   "language": "python",
   "name": "python3"
  },
  "language_info": {
   "codemirror_mode": {
    "name": "ipython",
    "version": 3
   },
   "file_extension": ".py",
   "mimetype": "text/x-python",
   "name": "python",
   "nbconvert_exporter": "python",
   "pygments_lexer": "ipython3",
   "version": "3.8.10"
  }
 },
 "nbformat": 4,
 "nbformat_minor": 5
}
