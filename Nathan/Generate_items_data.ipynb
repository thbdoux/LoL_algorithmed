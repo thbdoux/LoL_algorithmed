{
 "cells": [
  {
   "cell_type": "markdown",
   "id": "dd021723",
   "metadata": {},
   "source": [
    "### Initialization"
   ]
  },
  {
   "cell_type": "code",
   "execution_count": 10,
   "id": "7d0dfb6b",
   "metadata": {
    "scrolled": true
   },
   "outputs": [],
   "source": [
    "from riotwatcher import LolWatcher, ApiError\n",
    "import pandas as pd\n",
    "import numpy as np\n",
    "import json\n",
    "import time\n",
    "from datetime import datetime\n",
    "from tqdm import tqdm"
   ]
  },
  {
   "cell_type": "code",
   "execution_count": 11,
   "id": "b9ed6136",
   "metadata": {},
   "outputs": [],
   "source": [
    "json_file = open(\"API_key.json\") # load the API key\n",
    "API_KEY = json.load(json_file)[\"API_key\"]\n",
    "json_file.close()\n",
    "\n",
    "watcher = LolWatcher(API_KEY) # initialization of Lol watcher to retrieve data"
   ]
  },
  {
   "cell_type": "markdown",
   "id": "29881806",
   "metadata": {},
   "source": [
    "### Seconds to hours, minutes and seconds"
   ]
  },
  {
   "cell_type": "code",
   "execution_count": 17,
   "id": "599630cc",
   "metadata": {},
   "outputs": [],
   "source": [
    "def sec_to_hms(seconds):\n",
    "    \n",
    "    seconds = seconds % (24 * 3600)\n",
    "    hour = seconds // 3600\n",
    "    seconds %= 3600\n",
    "    minutes = seconds // 60\n",
    "    seconds %= 60\n",
    "      \n",
    "    return \"%02d minutes %02d seconds\" % (minutes, seconds)"
   ]
  },
  {
   "cell_type": "markdown",
   "id": "6a1e770c",
   "metadata": {},
   "source": [
    "### Get puuid of a user"
   ]
  },
  {
   "cell_type": "code",
   "execution_count": 18,
   "id": "cd538150",
   "metadata": {},
   "outputs": [],
   "source": [
    "def get_puuid(summoner_name, region='euw1'):\n",
    "    \n",
    "    puuid = watcher.summoner.by_name(region, summoner_name)[\"puuid\"]\n",
    "    \n",
    "    return puuid"
   ]
  },
  {
   "cell_type": "markdown",
   "id": "ac0ff95f",
   "metadata": {},
   "source": [
    "### Get item name from ID"
   ]
  },
  {
   "cell_type": "code",
   "execution_count": 19,
   "id": "80b372f5",
   "metadata": {},
   "outputs": [],
   "source": [
    "def get_item_name(item_id):\n",
    "    \n",
    "    item_version = watcher.data_dragon.versions_for_region('euw1')['n']['item']\n",
    "    item_name = watcher.data_dragon.items(item_version)['data'][str(item_id)]['name']\n",
    "    \n",
    "    return item_name"
   ]
  },
  {
   "cell_type": "markdown",
   "id": "cc8716bf",
   "metadata": {},
   "source": [
    " "
   ]
  },
  {
   "cell_type": "markdown",
   "id": "93a7e047",
   "metadata": {},
   "source": [
    "### Add data for a specific champion from the history of a user"
   ]
  },
  {
   "cell_type": "markdown",
   "id": "13270b12",
   "metadata": {},
   "source": [
    "Allows you to add the data of a specific player to the database. \n",
    "\n",
    "You have to give the champion whose data you want to retrieve, for example: \"Sett\" and then the name of the player for whom you want to retrieve the data of the champion \"Sett\". This way you can retrieve the items that a player has bought while playing Sett and the enemies that he has faced in the last n games."
   ]
  },
  {
   "cell_type": "code",
   "execution_count": 15,
   "id": "51c54b60",
   "metadata": {},
   "outputs": [],
   "source": [
    "def add_data(Summoner_name,target_champ,num_matches=50,region=['euw1','europe']):\n",
    "\n",
    "    # Summoner_name : Name of the player whose data you want to add\n",
    "    #\n",
    "    # target_champ : The champion whose data you want to add\n",
    "    #\n",
    "    # num_matches : Number of games to analyze starting from the last game (if the target champion does \n",
    "    # not appear in the last n matches, no data will be added)\n",
    "    #\n",
    "    # region : Europe = 'euw1','europe'\n",
    "    #          Korea = 'kr','asia'\n",
    "    \n",
    "    player_puuid = get_puuid(Summoner_name,region[0]) \n",
    "    my_matches = watcher.match.matchlist_by_puuid(region[1],player_puuid,count=num_matches)\n",
    "\n",
    "    start_time = time.time()\n",
    "    date = datetime.today().strftime('%d/%m/%Y')\n",
    "\n",
    "    row = []\n",
    "    champ_list = []\n",
    "    item_list = []\n",
    "\n",
    "    df = pd.read_csv('Lol_data.csv')\n",
    "\n",
    "    print(\"If the loading stops, it means that the API has reached the maximum number of requests.\\n\"+\n",
    "          \"You have to wait 2 minute before the loading resumes.\\n\"+\n",
    "        \"\\nAdding \"+target_champ+\" data of the player \"+Summoner_name+\" :\\n\")\n",
    "\n",
    "    for L in tqdm(range(num_matches)):\n",
    "        for i in range(10): \n",
    "            try:\n",
    "                test_match = watcher.match.by_id(region[1], my_matches[L])\n",
    "            except:\n",
    "                pass\n",
    "            champion = test_match['info']['participants'][i]['championName']\n",
    "            champ_list = np.append(champ_list,champion) # get the list of champions in the game\n",
    "    \n",
    "        patch = test_match['info']['gameVersion'].split(\".\")\n",
    "        patch_str = patch[0]+'.'+patch[1]\n",
    "    \n",
    "        if target_champ not in champ_list: # check if target champion is in the game\n",
    "            champ_list = []\n",
    "            row = []\n",
    "            continue\n",
    "        \n",
    "        target_champ_idx = np.where(champ_list == target_champ)[0][0]\n",
    "\n",
    "        if target_champ_idx < 5: # get only the enemies \n",
    "            enemy_list = champ_list[5:10]\n",
    "        else:\n",
    "            enemy_list = champ_list[0:5]\n",
    "\n",
    "        row = np.insert(enemy_list,0,target_champ)\n",
    "\n",
    "        for k in range(6): # get the items of the target champion\n",
    "            try:\n",
    "                item_n_str = 'item'+str(k)\n",
    "                item = test_match['info']['participants'][target_champ_idx][item_n_str]\n",
    "                row = np.append(row,item) \n",
    "            except Exception as error:\n",
    "                row = np.append(row,'no item')\n",
    "\n",
    "        row = np.append(row,[player_puuid,my_matches[L],date,patch_str])\n",
    "\n",
    "        if len(row):\n",
    "            df_len = len(df)\n",
    "            df.loc[df_len] = row\n",
    "\n",
    "        champ_list = []\n",
    "        row = []\n",
    "\n",
    "    df.to_csv('Lol_data.csv',index=False) # adding data to csv, encoding cp1252 for specific characters\n",
    "    end_time = time.time()-start_time\n",
    "    print(\"\\nData added in \"+sec_to_hms(end_time)+'\\n')"
   ]
  },
  {
   "cell_type": "code",
   "execution_count": 16,
   "id": "5655d866",
   "metadata": {
    "scrolled": false
   },
   "outputs": [
    {
     "name": "stdout",
     "output_type": "stream",
     "text": [
      "If the loading stops, it means that the API has reached the maximum number of requests.\n",
      "You have to wait 2 minute before the loading resumes.\n",
      "\n",
      "Adding Sett data of the player 물냉파 :\n",
      "\n"
     ]
    },
    {
     "name": "stderr",
     "output_type": "stream",
     "text": [
      "100%|██████████████████████████████████████████████████████████████████████████████████| 50/50 [09:42<00:00, 11.65s/it]\n"
     ]
    },
    {
     "name": "stdout",
     "output_type": "stream",
     "text": [
      "\n",
      "Data added in 09 minutes 42 seconds\n",
      "\n",
      "If the loading stops, it means that the API has reached the maximum number of requests.\n",
      "You have to wait 2 minute before the loading resumes.\n",
      "\n",
      "Adding Sett data of the player WWWave :\n",
      "\n"
     ]
    },
    {
     "name": "stderr",
     "output_type": "stream",
     "text": [
      "100%|███████████████████████████████████████████████████████████████████████████████| 50/50 [10:08<00:00, 12.17s/it]\n"
     ]
    },
    {
     "name": "stdout",
     "output_type": "stream",
     "text": [
      "\n",
      "Data added in 10 minutes 08 seconds\n",
      "\n",
      "If the loading stops, it means that the API has reached the maximum number of requests.\n",
      "You have to wait 2 minute before the loading resumes.\n",
      "\n",
      "Adding Sett data of the player 동물특공대 미 셸 :\n",
      "\n"
     ]
    },
    {
     "name": "stderr",
     "output_type": "stream",
     "text": [
      "100%|███████████████████████████████████████████████████████████████████████████████| 50/50 [10:04<00:00, 12.09s/it]\n"
     ]
    },
    {
     "name": "stdout",
     "output_type": "stream",
     "text": [
      "\n",
      "Data added in 10 minutes 04 seconds\n",
      "\n",
      "If the loading stops, it means that the API has reached the maximum number of requests.\n",
      "You have to wait 2 minute before the loading resumes.\n",
      "\n",
      "Adding Sett data of the player God Thanatos :\n",
      "\n"
     ]
    },
    {
     "name": "stderr",
     "output_type": "stream",
     "text": [
      "100%|███████████████████████████████████████████████████████████████████████████████| 50/50 [10:07<00:00, 12.16s/it]\n"
     ]
    },
    {
     "name": "stdout",
     "output_type": "stream",
     "text": [
      "\n",
      "Data added in 10 minutes 07 seconds\n",
      "\n",
      "If the loading stops, it means that the API has reached the maximum number of requests.\n",
      "You have to wait 2 minute before the loading resumes.\n",
      "\n",
      "Adding Sett data of the player WVVWVWVVWVWWVW :\n",
      "\n"
     ]
    },
    {
     "name": "stderr",
     "output_type": "stream",
     "text": [
      "100%|███████████████████████████████████████████████████████████████████████████████| 50/50 [10:05<00:00, 12.11s/it]"
     ]
    },
    {
     "name": "stdout",
     "output_type": "stream",
     "text": [
      "\n",
      "Data added in 10 minutes 05 seconds\n",
      "\n"
     ]
    },
    {
     "name": "stderr",
     "output_type": "stream",
     "text": [
      "\n"
     ]
    }
   ],
   "source": [
    "summoners_history_euw = ['Nortu','Gudule','Akn Hanima','TokÌta Ohma','Bechamelle','MENTALLY 1MMUNE','LFT BRK TR','Ping An Xi Lè',\n",
    "             'EG PEIWAN Sao','HMPeiWan Yorkie','BOI NEXT DOOR','I am N1Ty','amongus potion12','no i do not care',\n",
    "             'Zzzzzbr','Doope','sokrfd','Flynn 7','dopa farter','HMPeiWan NanBao','StDaimoniac','Chen Noll','TwTv NMB Jordan']\n",
    "\n",
    "summoners_history_kr = ['아 가 리','tenten12qq','이걸 세트가','ren sheng ru xi','칸야블','첼까지닉변안함','전승트','하이눈 마이','카시스 페델리안',\n",
    "             '세트말고할거없음','예전에 내가 아냐','평화로운 친구','kamuE','옐로우핀','세트의 꿈','겜좀집중해서하자','남장구',\n",
    "             '문신 덩크충','JYPBoss','Lestiny','물냉파','WWWave','동물특공대 미 셸','God Thanatos','WVVWVWVVWVWWVW']\n",
    "\n",
    "summoners = []\n",
    "target_champ = 'Sett'\n",
    "num_matches = 50\n",
    "korea = ['kr','asia']\n",
    "\n",
    "for names in summoners:\n",
    "    add_data(names,target_champ,num_matches,korea)"
   ]
  },
  {
   "cell_type": "code",
   "execution_count": null,
   "id": "d00d7090",
   "metadata": {},
   "outputs": [],
   "source": []
  }
 ],
 "metadata": {
  "kernelspec": {
   "display_name": "Python 3 (ipykernel)",
   "language": "python",
   "name": "python3"
  },
  "language_info": {
   "codemirror_mode": {
    "name": "ipython",
    "version": 3
   },
   "file_extension": ".py",
   "mimetype": "text/x-python",
   "name": "python",
   "nbconvert_exporter": "python",
   "pygments_lexer": "ipython3",
   "version": "3.8.10"
  }
 },
 "nbformat": 4,
 "nbformat_minor": 5
}
