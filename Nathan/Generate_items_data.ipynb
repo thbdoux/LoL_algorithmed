{
 "cells": [
  {
   "cell_type": "code",
   "execution_count": 82,
   "id": "7d0dfb6b",
   "metadata": {
    "scrolled": true
   },
   "outputs": [],
   "source": [
    "from riotwatcher import LolWatcher, ApiError\n",
    "import pandas as pd\n",
    "import numpy as np"
   ]
  },
  {
   "cell_type": "code",
   "execution_count": 83,
   "id": "b9ed6136",
   "metadata": {},
   "outputs": [],
   "source": [
    "API_KEY = 'RGAPI-96ee0588-b551-470f-899c-dd6efe8037ff'\n",
    "REGION = 'euw1'\n",
    "REGION_EU = 'europe'\n",
    "watcher = LolWatcher(API_KEY)"
   ]
  },
  {
   "cell_type": "markdown",
   "id": "e545da6c",
   "metadata": {},
   "source": [
    "### Get ID of a user"
   ]
  },
  {
   "cell_type": "code",
   "execution_count": 84,
   "id": "7c669290",
   "metadata": {},
   "outputs": [],
   "source": [
    "def get_id(summoner_name, region='euw1'):\n",
    "    player_id = watcher.summoner.by_name(region, summoner_name)[\"id\"]\n",
    "    return player_id"
   ]
  },
  {
   "cell_type": "markdown",
   "id": "6a1e770c",
   "metadata": {},
   "source": [
    "### Get puuid of a user"
   ]
  },
  {
   "cell_type": "code",
   "execution_count": 85,
   "id": "cd538150",
   "metadata": {},
   "outputs": [],
   "source": [
    "def get_puuid(summoner_name, region='euw1'):\n",
    "    puuid = watcher.summoner.by_name(region, summoner_name)[\"puuid\"]\n",
    "    return puuid"
   ]
  },
  {
   "cell_type": "markdown",
   "id": "ac0ff95f",
   "metadata": {},
   "source": [
    "### Get item name from ID"
   ]
  },
  {
   "cell_type": "code",
   "execution_count": 86,
   "id": "80b372f5",
   "metadata": {},
   "outputs": [],
   "source": [
    "def get_item_name(item_id):\n",
    "    item_version = watcher.data_dragon.versions_for_region(REGION)['n']['item']\n",
    "    item_name = watcher.data_dragon.items(item_version)['data'][str(item_id)]['name']\n",
    "    return item_name"
   ]
  },
  {
   "cell_type": "markdown",
   "id": "cc8716bf",
   "metadata": {},
   "source": [
    " "
   ]
  },
  {
   "cell_type": "code",
   "execution_count": 87,
   "id": "1655c4fd",
   "metadata": {
    "scrolled": true
   },
   "outputs": [],
   "source": [
    "player_puuid = get_puuid(\"Pied à coulisse\")\n",
    "my_matches = watcher.match.matchlist_by_puuid(REGION_EU,player_puuid)"
   ]
  },
  {
   "cell_type": "markdown",
   "id": "a9358d8c",
   "metadata": {},
   "source": [
    " "
   ]
  },
  {
   "cell_type": "code",
   "execution_count": 103,
   "id": "ffb891ff",
   "metadata": {},
   "outputs": [
    {
     "name": "stdout",
     "output_type": "stream",
     "text": [
      "['Sion' 'Kayn' 'Katarina' 'Caitlyn' 'Thresh' 'Sett' 'Viego' 'Orianna'\n",
      " 'Ashe' 'Soraka']\n",
      "['Kraken Slayer' 'no item' 'Mortal Reminder' \"Berserker's Greaves\"\n",
      " \"Runaan's Hurricane\" 'no item']\n"
     ]
    }
   ],
   "source": [
    "champ_list =[]\n",
    "item_list =[]\n",
    "\n",
    "for i in range(10): # attention nb de requete max\n",
    "    test_match = watcher.match.by_id(REGION_EU, my_matches[0])\n",
    "    champion = test_match['info']['participants'][i]['championName']\n",
    "    champ_list = np.append(champ_list,champion)\n",
    "\n",
    "    if champion == 'Ashe':\n",
    "        for k in range(6):\n",
    "            try:\n",
    "                item_n_str = 'item'+str(k)\n",
    "                item = get_item_name(test_match['info']['participants'][i][item_n_str])\n",
    "                item_list = np.append(item_list,item)\n",
    "\n",
    "            except:\n",
    "                item_list = np.append(item_list,'no item')\n",
    "\n",
    "\n",
    "print(champ_list)\n",
    "print(item_list)"
   ]
  },
  {
   "cell_type": "code",
   "execution_count": 89,
   "id": "1cf2ad29",
   "metadata": {},
   "outputs": [],
   "source": [
    "#item = test_match['info']['participants'][5]['item0']"
   ]
  },
  {
   "cell_type": "code",
   "execution_count": 92,
   "id": "cbe5fb56",
   "metadata": {},
   "outputs": [
    {
     "name": "stdout",
     "output_type": "stream",
     "text": [
      "item0 <class 'str'>\n"
     ]
    }
   ],
   "source": [
    "i = 0\n",
    "item_str = 'item'+str(i)\n",
    "print(item_str,type(item_str))"
   ]
  },
  {
   "cell_type": "code",
   "execution_count": null,
   "id": "94d1f4fc",
   "metadata": {},
   "outputs": [],
   "source": []
  }
 ],
 "metadata": {
  "kernelspec": {
   "display_name": "Python 3 (ipykernel)",
   "language": "python",
   "name": "python3"
  },
  "language_info": {
   "codemirror_mode": {
    "name": "ipython",
    "version": 3
   },
   "file_extension": ".py",
   "mimetype": "text/x-python",
   "name": "python",
   "nbconvert_exporter": "python",
   "pygments_lexer": "ipython3",
   "version": "3.8.10"
  }
 },
 "nbformat": 4,
 "nbformat_minor": 5
}
