{
 "cells": [
  {
   "cell_type": "code",
   "execution_count": 160,
   "id": "7d0dfb6b",
   "metadata": {
    "scrolled": true
   },
   "outputs": [],
   "source": [
    "from riotwatcher import LolWatcher, ApiError\n",
    "import pandas as pd\n",
    "import numpy as np\n",
    "import json\n",
    "import time\n",
    "from datetime import datetime\n",
    "from tqdm import tqdm"
   ]
  },
  {
   "cell_type": "code",
   "execution_count": 161,
   "id": "b9ed6136",
   "metadata": {},
   "outputs": [],
   "source": [
    "json_file = open(\"API_key.json\")\n",
    "API_KEY = json.load(json_file)[\"API_key\"]\n",
    "json_file.close()\n",
    "\n",
    "REGION = 'euw1'\n",
    "REGION_EU = 'europe'\n",
    "watcher = LolWatcher(API_KEY)"
   ]
  },
  {
   "cell_type": "markdown",
   "id": "29881806",
   "metadata": {},
   "source": [
    "### Seconds to hours, minutes and seconds"
   ]
  },
  {
   "cell_type": "code",
   "execution_count": 162,
   "id": "599630cc",
   "metadata": {},
   "outputs": [],
   "source": [
    "def sec_to_hms(seconds):\n",
    "    seconds = seconds % (24 * 3600)\n",
    "    hour = seconds // 3600\n",
    "    seconds %= 3600\n",
    "    minutes = seconds // 60\n",
    "    seconds %= 60\n",
    "      \n",
    "    return \"%02d minutes %02d seconds\" % (minutes, seconds)"
   ]
  },
  {
   "cell_type": "markdown",
   "id": "e545da6c",
   "metadata": {},
   "source": [
    "### Get ID of a user"
   ]
  },
  {
   "cell_type": "code",
   "execution_count": 163,
   "id": "7c669290",
   "metadata": {},
   "outputs": [],
   "source": [
    "def get_id(summoner_name, region='euw1'):\n",
    "    player_id = watcher.summoner.by_name(region, summoner_name)[\"id\"]\n",
    "    return player_id"
   ]
  },
  {
   "cell_type": "markdown",
   "id": "6a1e770c",
   "metadata": {},
   "source": [
    "### Get puuid of a user"
   ]
  },
  {
   "cell_type": "code",
   "execution_count": 164,
   "id": "cd538150",
   "metadata": {},
   "outputs": [],
   "source": [
    "def get_puuid(summoner_name, region='euw1'):\n",
    "    puuid = watcher.summoner.by_name(region, summoner_name)[\"puuid\"]\n",
    "    return puuid"
   ]
  },
  {
   "cell_type": "markdown",
   "id": "ac0ff95f",
   "metadata": {},
   "source": [
    "### Get item name from ID"
   ]
  },
  {
   "cell_type": "code",
   "execution_count": 165,
   "id": "80b372f5",
   "metadata": {},
   "outputs": [],
   "source": [
    "def get_item_name(item_id):\n",
    "    item_version = watcher.data_dragon.versions_for_region(REGION)['n']['item']\n",
    "    item_name = watcher.data_dragon.items(item_version)['data'][str(item_id)]['name']\n",
    "    return item_name"
   ]
  },
  {
   "cell_type": "markdown",
   "id": "cc8716bf",
   "metadata": {},
   "source": [
    " "
   ]
  },
  {
   "cell_type": "markdown",
   "id": "93a7e047",
   "metadata": {},
   "source": [
    "### Add data for a specific champion from the history of a user"
   ]
  },
  {
   "cell_type": "code",
   "execution_count": 168,
   "id": "f4d28db7",
   "metadata": {
    "scrolled": true
   },
   "outputs": [],
   "source": [
    "def add_data(Summoner_name):\n",
    "\n",
    "    player_puuid = get_puuid(Summoner_name)\n",
    "    my_matches = watcher.match.matchlist_by_puuid(REGION_EU,player_puuid)\n",
    "\n",
    "    start_time = time.time()\n",
    "    date = datetime.today().strftime('%d/%m/%Y')\n",
    "\n",
    "    row = []\n",
    "    champ_list = []\n",
    "    item_list = []\n",
    "\n",
    "    df = pd.read_csv('Lol_data.csv',encoding='cp1252')\n",
    "\n",
    "    target_champ = 'Sett'\n",
    "    matches_number = 20 #number of matches to analyze to found data, max = 20\n",
    "\n",
    "    print(\"If the loading stops, it means that the API has reached the maximum number of requests.\\n\"+\n",
    "          \"You have to wait 2 minute before the loading resumes.\\n\"+\n",
    "        \"\\nAdding \"+target_champ+\" data of the player \"+Summoner_name+\" :\\n\")\n",
    "\n",
    "    for L in tqdm(range(matches_number)):\n",
    "\n",
    "        for i in range(10): \n",
    "            try:\n",
    "                test_match = watcher.match.by_id(REGION_EU, my_matches[L])\n",
    "            except:\n",
    "                pass\n",
    "            champion = test_match['info']['participants'][i]['championName']\n",
    "            champ_list = np.append(champ_list,champion) # get the list of champions in the game\n",
    "\n",
    "        if target_champ in champ_list: # check if target champion is in the game\n",
    "            target_champ_idx = np.where(champ_list == target_champ)[0][0]\n",
    "\n",
    "            if target_champ_idx < 5: # get only the enemies \n",
    "                enemy_list = champ_list[5:10]\n",
    "            else:\n",
    "                enemy_list = champ_list[0:5]\n",
    "\n",
    "            row = np.insert(enemy_list,0,target_champ)\n",
    "\n",
    "            for k in range(6): # get the items of the target champion\n",
    "                    try:\n",
    "                        item_n_str = 'item'+str(k)\n",
    "                        item = get_item_name(test_match['info']['participants'][target_champ_idx][item_n_str]) \n",
    "                        row = np.append(row,item) \n",
    "\n",
    "                    except:\n",
    "                        row = np.append(row,'no item')\n",
    "\n",
    "            row = np.append(row,[Summoner_name,player_puuid,date])\n",
    "\n",
    "        if len(row):\n",
    "            df_len = len(df)\n",
    "            df.loc[df_len] = row\n",
    "\n",
    "        champ_list = []\n",
    "        row = []\n",
    "\n",
    "    df.to_csv('Lol_data.csv',index=False,encoding='cp1252') # adding data to csv, encoding cp1252 for specific characters\n",
    "\n",
    "    end_time = time.time()-start_time\n",
    "    print(\"\\n Data added in \"+sec_to_hms(end_time))"
   ]
  },
  {
   "cell_type": "code",
   "execution_count": 169,
   "id": "5655d866",
   "metadata": {
    "scrolled": false
   },
   "outputs": [
    {
     "name": "stdout",
     "output_type": "stream",
     "text": [
      "If the loading stops, it means that the API has reached the maximum number of requests.\n",
      "You have to wait 2 minute before the loading resumes.\n",
      "\n",
      "Adding Sett data of the player EG PEIWAN Sao :\n",
      "\n"
     ]
    },
    {
     "name": "stderr",
     "output_type": "stream",
     "text": [
      "100%|███████████████████████████████████| 20/20 [04:01<00:00, 12.05s/it]"
     ]
    },
    {
     "name": "stdout",
     "output_type": "stream",
     "text": [
      "\n",
      " Data added in 04 minutes 01 seconds\n"
     ]
    },
    {
     "name": "stderr",
     "output_type": "stream",
     "text": [
      "\n"
     ]
    }
   ],
   "source": [
    "add_data('EG PEIWAN Sao')"
   ]
  }
 ],
 "metadata": {
  "kernelspec": {
   "display_name": "Python 3 (ipykernel)",
   "language": "python",
   "name": "python3"
  },
  "language_info": {
   "codemirror_mode": {
    "name": "ipython",
    "version": 3
   },
   "file_extension": ".py",
   "mimetype": "text/x-python",
   "name": "python",
   "nbconvert_exporter": "python",
   "pygments_lexer": "ipython3",
   "version": "3.8.10"
  }
 },
 "nbformat": 4,
 "nbformat_minor": 5
}
