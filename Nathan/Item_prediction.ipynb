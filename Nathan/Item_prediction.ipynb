{
 "cells": [
  {
   "cell_type": "markdown",
   "metadata": {
    "id": "g4CXXzKAUryD"
   },
   "source": [
    "### Initialization"
   ]
  },
  {
   "cell_type": "code",
   "execution_count": 105,
   "metadata": {
    "id": "qnbDyjA9UIbW"
   },
   "outputs": [],
   "source": [
    "import pandas as pd\n",
    "import tensorflow as tf\n",
    "from sklearn.model_selection import train_test_split\n",
    "import json\n",
    "import requests"
   ]
  },
  {
   "cell_type": "markdown",
   "metadata": {
    "id": "a_jXdZL4T1aJ"
   },
   "source": [
    "### Retrieve data"
   ]
  },
  {
   "cell_type": "code",
   "execution_count": 106,
   "metadata": {
    "id": "mUrPrL5CS6Al"
   },
   "outputs": [],
   "source": [
    "df = pd.read_csv('Lol_data.csv')"
   ]
  },
  {
   "cell_type": "code",
   "execution_count": 107,
   "metadata": {
    "colab": {
     "base_uri": "https://localhost:8080/",
     "height": 206
    },
    "id": "DN9-6l1mUXcX",
    "outputId": "821e06ff-6172-4e94-8f9b-25769549fe27"
   },
   "outputs": [
    {
     "data": {
      "text/html": [
       "<div>\n",
       "<style scoped>\n",
       "    .dataframe tbody tr th:only-of-type {\n",
       "        vertical-align: middle;\n",
       "    }\n",
       "\n",
       "    .dataframe tbody tr th {\n",
       "        vertical-align: top;\n",
       "    }\n",
       "\n",
       "    .dataframe thead th {\n",
       "        text-align: right;\n",
       "    }\n",
       "</style>\n",
       "<table border=\"1\" class=\"dataframe\">\n",
       "  <thead>\n",
       "    <tr style=\"text-align: right;\">\n",
       "      <th></th>\n",
       "      <th>Target Champ</th>\n",
       "      <th>Enemy 1</th>\n",
       "      <th>Enemy 2</th>\n",
       "      <th>Enemy 3</th>\n",
       "      <th>Enemy 4</th>\n",
       "      <th>Enemy 5</th>\n",
       "      <th>Item 1</th>\n",
       "      <th>Item 2</th>\n",
       "      <th>Item 3</th>\n",
       "      <th>Item 4</th>\n",
       "      <th>Item 5</th>\n",
       "      <th>Item 6</th>\n",
       "      <th>Player puuid</th>\n",
       "      <th>Match ID</th>\n",
       "      <th>Date added</th>\n",
       "      <th>Patch</th>\n",
       "    </tr>\n",
       "  </thead>\n",
       "  <tbody>\n",
       "    <tr>\n",
       "      <th>0</th>\n",
       "      <td>Sett</td>\n",
       "      <td>Garen</td>\n",
       "      <td>Gwen</td>\n",
       "      <td>Zed</td>\n",
       "      <td>Jinx</td>\n",
       "      <td>Karma</td>\n",
       "      <td>1055</td>\n",
       "      <td>6630</td>\n",
       "      <td>3133</td>\n",
       "      <td>3067</td>\n",
       "      <td>3047</td>\n",
       "      <td>0</td>\n",
       "      <td>vvmyahdFFDwTptOo3rlb5-qNpfpIUAY_Tbbs7UpA9MJyh7...</td>\n",
       "      <td>KR_5738299499</td>\n",
       "      <td>5/2/2022</td>\n",
       "      <td>12.3</td>\n",
       "    </tr>\n",
       "    <tr>\n",
       "      <th>1</th>\n",
       "      <td>Sett</td>\n",
       "      <td>Fiora</td>\n",
       "      <td>Nidalee</td>\n",
       "      <td>Sylas</td>\n",
       "      <td>Ashe</td>\n",
       "      <td>Lulu</td>\n",
       "      <td>1055</td>\n",
       "      <td>3153</td>\n",
       "      <td>6662</td>\n",
       "      <td>3047</td>\n",
       "      <td>0</td>\n",
       "      <td>0</td>\n",
       "      <td>vvmyahdFFDwTptOo3rlb5-qNpfpIUAY_Tbbs7UpA9MJyh7...</td>\n",
       "      <td>KR_5738284177</td>\n",
       "      <td>5/2/2022</td>\n",
       "      <td>12.3</td>\n",
       "    </tr>\n",
       "    <tr>\n",
       "      <th>2</th>\n",
       "      <td>Sett</td>\n",
       "      <td>Kennen</td>\n",
       "      <td>LeeSin</td>\n",
       "      <td>Yone</td>\n",
       "      <td>Jhin</td>\n",
       "      <td>Yuumi</td>\n",
       "      <td>1054</td>\n",
       "      <td>6631</td>\n",
       "      <td>3044</td>\n",
       "      <td>3111</td>\n",
       "      <td>1037</td>\n",
       "      <td>0</td>\n",
       "      <td>vvmyahdFFDwTptOo3rlb5-qNpfpIUAY_Tbbs7UpA9MJyh7...</td>\n",
       "      <td>KR_5738059533</td>\n",
       "      <td>5/2/2022</td>\n",
       "      <td>12.3</td>\n",
       "    </tr>\n",
       "    <tr>\n",
       "      <th>3</th>\n",
       "      <td>Sett</td>\n",
       "      <td>Mordekaiser</td>\n",
       "      <td>Graves</td>\n",
       "      <td>Ekko</td>\n",
       "      <td>Jhin</td>\n",
       "      <td>Lux</td>\n",
       "      <td>3748</td>\n",
       "      <td>3153</td>\n",
       "      <td>3047</td>\n",
       "      <td>6662</td>\n",
       "      <td>1036</td>\n",
       "      <td>1036</td>\n",
       "      <td>vvmyahdFFDwTptOo3rlb5-qNpfpIUAY_Tbbs7UpA9MJyh7...</td>\n",
       "      <td>KR_5738130364</td>\n",
       "      <td>5/2/2022</td>\n",
       "      <td>12.3</td>\n",
       "    </tr>\n",
       "    <tr>\n",
       "      <th>4</th>\n",
       "      <td>Sett</td>\n",
       "      <td>Gnar</td>\n",
       "      <td>XinZhao</td>\n",
       "      <td>Leblanc</td>\n",
       "      <td>Zeri</td>\n",
       "      <td>Xerath</td>\n",
       "      <td>1054</td>\n",
       "      <td>6631</td>\n",
       "      <td>1036</td>\n",
       "      <td>3047</td>\n",
       "      <td>0</td>\n",
       "      <td>0</td>\n",
       "      <td>vvmyahdFFDwTptOo3rlb5-qNpfpIUAY_Tbbs7UpA9MJyh7...</td>\n",
       "      <td>KR_5737837114</td>\n",
       "      <td>5/2/2022</td>\n",
       "      <td>12.3</td>\n",
       "    </tr>\n",
       "  </tbody>\n",
       "</table>\n",
       "</div>"
      ],
      "text/plain": [
       "  Target Champ      Enemy 1  Enemy 2  Enemy 3 Enemy 4 Enemy 5  Item 1  Item 2  \\\n",
       "0         Sett        Garen     Gwen      Zed    Jinx   Karma    1055    6630   \n",
       "1         Sett        Fiora  Nidalee    Sylas    Ashe    Lulu    1055    3153   \n",
       "2         Sett       Kennen   LeeSin     Yone    Jhin   Yuumi    1054    6631   \n",
       "3         Sett  Mordekaiser   Graves     Ekko    Jhin     Lux    3748    3153   \n",
       "4         Sett         Gnar  XinZhao  Leblanc    Zeri  Xerath    1054    6631   \n",
       "\n",
       "   Item 3  Item 4  Item 5  Item 6  \\\n",
       "0    3133    3067    3047       0   \n",
       "1    6662    3047       0       0   \n",
       "2    3044    3111    1037       0   \n",
       "3    3047    6662    1036    1036   \n",
       "4    1036    3047       0       0   \n",
       "\n",
       "                                        Player puuid       Match ID  \\\n",
       "0  vvmyahdFFDwTptOo3rlb5-qNpfpIUAY_Tbbs7UpA9MJyh7...  KR_5738299499   \n",
       "1  vvmyahdFFDwTptOo3rlb5-qNpfpIUAY_Tbbs7UpA9MJyh7...  KR_5738284177   \n",
       "2  vvmyahdFFDwTptOo3rlb5-qNpfpIUAY_Tbbs7UpA9MJyh7...  KR_5738059533   \n",
       "3  vvmyahdFFDwTptOo3rlb5-qNpfpIUAY_Tbbs7UpA9MJyh7...  KR_5738130364   \n",
       "4  vvmyahdFFDwTptOo3rlb5-qNpfpIUAY_Tbbs7UpA9MJyh7...  KR_5737837114   \n",
       "\n",
       "  Date added  Patch  \n",
       "0   5/2/2022   12.3  \n",
       "1   5/2/2022   12.3  \n",
       "2   5/2/2022   12.3  \n",
       "3   5/2/2022   12.3  \n",
       "4   5/2/2022   12.3  "
      ]
     },
     "execution_count": 107,
     "metadata": {},
     "output_type": "execute_result"
    }
   ],
   "source": [
    "df.head()"
   ]
  },
  {
   "cell_type": "markdown",
   "metadata": {
    "id": "JcQGWbLCuokZ"
   },
   "source": [
    "### Preprocessing"
   ]
  },
  {
   "cell_type": "markdown",
   "metadata": {
    "id": "PAxPalUlwRXy"
   },
   "source": [
    "#### Input"
   ]
  },
  {
   "cell_type": "code",
   "execution_count": 108,
   "metadata": {
    "colab": {
     "base_uri": "https://localhost:8080/"
    },
    "id": "Ylem2XScUo3k",
    "outputId": "c7f20442-c647-4826-a22d-a94cd73c6a68"
   },
   "outputs": [
    {
     "name": "stdout",
     "output_type": "stream",
     "text": [
      "\n",
      "row, col =  (1200, 5)\n"
     ]
    },
    {
     "data": {
      "text/html": [
       "<div>\n",
       "<style scoped>\n",
       "    .dataframe tbody tr th:only-of-type {\n",
       "        vertical-align: middle;\n",
       "    }\n",
       "\n",
       "    .dataframe tbody tr th {\n",
       "        vertical-align: top;\n",
       "    }\n",
       "\n",
       "    .dataframe thead th {\n",
       "        text-align: right;\n",
       "    }\n",
       "</style>\n",
       "<table border=\"1\" class=\"dataframe\">\n",
       "  <thead>\n",
       "    <tr style=\"text-align: right;\">\n",
       "      <th></th>\n",
       "      <th>Enemy 1</th>\n",
       "      <th>Enemy 2</th>\n",
       "      <th>Enemy 3</th>\n",
       "      <th>Enemy 4</th>\n",
       "      <th>Enemy 5</th>\n",
       "    </tr>\n",
       "  </thead>\n",
       "  <tbody>\n",
       "    <tr>\n",
       "      <th>0</th>\n",
       "      <td>Garen</td>\n",
       "      <td>Gwen</td>\n",
       "      <td>Zed</td>\n",
       "      <td>Jinx</td>\n",
       "      <td>Karma</td>\n",
       "    </tr>\n",
       "    <tr>\n",
       "      <th>1</th>\n",
       "      <td>Fiora</td>\n",
       "      <td>Nidalee</td>\n",
       "      <td>Sylas</td>\n",
       "      <td>Ashe</td>\n",
       "      <td>Lulu</td>\n",
       "    </tr>\n",
       "    <tr>\n",
       "      <th>2</th>\n",
       "      <td>Kennen</td>\n",
       "      <td>LeeSin</td>\n",
       "      <td>Yone</td>\n",
       "      <td>Jhin</td>\n",
       "      <td>Yuumi</td>\n",
       "    </tr>\n",
       "    <tr>\n",
       "      <th>3</th>\n",
       "      <td>Mordekaiser</td>\n",
       "      <td>Graves</td>\n",
       "      <td>Ekko</td>\n",
       "      <td>Jhin</td>\n",
       "      <td>Lux</td>\n",
       "    </tr>\n",
       "    <tr>\n",
       "      <th>4</th>\n",
       "      <td>Gnar</td>\n",
       "      <td>XinZhao</td>\n",
       "      <td>Leblanc</td>\n",
       "      <td>Zeri</td>\n",
       "      <td>Xerath</td>\n",
       "    </tr>\n",
       "  </tbody>\n",
       "</table>\n",
       "</div>"
      ],
      "text/plain": [
       "       Enemy 1  Enemy 2  Enemy 3 Enemy 4 Enemy 5\n",
       "0        Garen     Gwen      Zed    Jinx   Karma\n",
       "1        Fiora  Nidalee    Sylas    Ashe    Lulu\n",
       "2       Kennen   LeeSin     Yone    Jhin   Yuumi\n",
       "3  Mordekaiser   Graves     Ekko    Jhin     Lux\n",
       "4         Gnar  XinZhao  Leblanc    Zeri  Xerath"
      ]
     },
     "execution_count": 108,
     "metadata": {},
     "output_type": "execute_result"
    }
   ],
   "source": [
    "X = df.loc[:,['Enemy 1','Enemy 2','Enemy 3','Enemy 4','Enemy 5']]\n",
    "print('\\nrow, col = ',X.shape)\n",
    "X.head()"
   ]
  },
  {
   "cell_type": "markdown",
   "metadata": {
    "id": "Ux1V4FmewXhA"
   },
   "source": [
    "#### Output"
   ]
  },
  {
   "cell_type": "code",
   "execution_count": 109,
   "metadata": {
    "colab": {
     "base_uri": "https://localhost:8080/"
    },
    "id": "-vW5Uu0Vs9Cp",
    "outputId": "357a5708-cacd-498c-80b9-7372e301869e"
   },
   "outputs": [
    {
     "name": "stdout",
     "output_type": "stream",
     "text": [
      "\n",
      "row, col =  (1200, 6)\n"
     ]
    },
    {
     "data": {
      "text/html": [
       "<div>\n",
       "<style scoped>\n",
       "    .dataframe tbody tr th:only-of-type {\n",
       "        vertical-align: middle;\n",
       "    }\n",
       "\n",
       "    .dataframe tbody tr th {\n",
       "        vertical-align: top;\n",
       "    }\n",
       "\n",
       "    .dataframe thead th {\n",
       "        text-align: right;\n",
       "    }\n",
       "</style>\n",
       "<table border=\"1\" class=\"dataframe\">\n",
       "  <thead>\n",
       "    <tr style=\"text-align: right;\">\n",
       "      <th></th>\n",
       "      <th>Item 1</th>\n",
       "      <th>Item 2</th>\n",
       "      <th>Item 3</th>\n",
       "      <th>Item 4</th>\n",
       "      <th>Item 5</th>\n",
       "      <th>Item 6</th>\n",
       "    </tr>\n",
       "  </thead>\n",
       "  <tbody>\n",
       "    <tr>\n",
       "      <th>0</th>\n",
       "      <td>1055</td>\n",
       "      <td>6630</td>\n",
       "      <td>3133</td>\n",
       "      <td>3067</td>\n",
       "      <td>3047</td>\n",
       "      <td>0</td>\n",
       "    </tr>\n",
       "    <tr>\n",
       "      <th>1</th>\n",
       "      <td>1055</td>\n",
       "      <td>3153</td>\n",
       "      <td>6662</td>\n",
       "      <td>3047</td>\n",
       "      <td>0</td>\n",
       "      <td>0</td>\n",
       "    </tr>\n",
       "    <tr>\n",
       "      <th>2</th>\n",
       "      <td>1054</td>\n",
       "      <td>6631</td>\n",
       "      <td>3044</td>\n",
       "      <td>3111</td>\n",
       "      <td>1037</td>\n",
       "      <td>0</td>\n",
       "    </tr>\n",
       "    <tr>\n",
       "      <th>3</th>\n",
       "      <td>3748</td>\n",
       "      <td>3153</td>\n",
       "      <td>3047</td>\n",
       "      <td>6662</td>\n",
       "      <td>1036</td>\n",
       "      <td>1036</td>\n",
       "    </tr>\n",
       "    <tr>\n",
       "      <th>4</th>\n",
       "      <td>1054</td>\n",
       "      <td>6631</td>\n",
       "      <td>1036</td>\n",
       "      <td>3047</td>\n",
       "      <td>0</td>\n",
       "      <td>0</td>\n",
       "    </tr>\n",
       "  </tbody>\n",
       "</table>\n",
       "</div>"
      ],
      "text/plain": [
       "   Item 1  Item 2  Item 3  Item 4  Item 5  Item 6\n",
       "0    1055    6630    3133    3067    3047       0\n",
       "1    1055    3153    6662    3047       0       0\n",
       "2    1054    6631    3044    3111    1037       0\n",
       "3    3748    3153    3047    6662    1036    1036\n",
       "4    1054    6631    1036    3047       0       0"
      ]
     },
     "execution_count": 109,
     "metadata": {},
     "output_type": "execute_result"
    }
   ],
   "source": [
    "y = df.loc[:,['Item 1','Item 2','Item 3','Item 4','Item 5','Item 6']]\n",
    "print('\\nrow, col = ',y.shape)\n",
    "y.head()"
   ]
  },
  {
   "cell_type": "markdown",
   "metadata": {
    "id": "5PL035RTwb6O"
   },
   "source": [
    "#### Split to train and test"
   ]
  },
  {
   "cell_type": "code",
   "execution_count": 110,
   "metadata": {
    "id": "wuEY7kyBunS7"
   },
   "outputs": [],
   "source": [
    "X_train, X_test, y_train, y_test = train_test_split(X,y,test_size = 0.2)"
   ]
  },
  {
   "cell_type": "code",
   "execution_count": 111,
   "metadata": {
    "colab": {
     "base_uri": "https://localhost:8080/"
    },
    "id": "8dFhsf-Uwxeq",
    "outputId": "fa8caa5b-4c25-4f4b-c658-cbdf8a9ec7a9"
   },
   "outputs": [
    {
     "name": "stdout",
     "output_type": "stream",
     "text": [
      "X_train shape :  (960, 5) \n",
      "y_train shape :  (960, 6) \n",
      "X_test shape :  (240, 5) \n",
      "y_test shape :  (240, 6)\n"
     ]
    }
   ],
   "source": [
    "print('X_train shape : ',X_train.shape,'\\ny_train shape : ',y_train.shape,'\\nX_test shape : ',X_test.shape,'\\ny_test shape : ',y_test.shape)"
   ]
  },
  {
   "cell_type": "markdown",
   "metadata": {},
   "source": [
    "#### Transform champions names to numbers"
   ]
  },
  {
   "cell_type": "code",
   "execution_count": 112,
   "metadata": {
    "colab": {
     "base_uri": "https://localhost:8080/"
    },
    "id": "uGtEkogd4sj_",
    "outputId": "672a94a7-60c2-4992-c8eb-6118a36ff5cf"
   },
   "outputs": [],
   "source": [
    "json_file = open(\"Lol_champion_list.json\")\n",
    "champ_dict = json.load(json_file)\n",
    "json_file.close()"
   ]
  },
  {
   "cell_type": "code",
   "execution_count": 113,
   "metadata": {
    "id": "4L55tnjHLl0W"
   },
   "outputs": [],
   "source": [
    "def champ_to_value(X):\n",
    "    return champ_dict[X]"
   ]
  },
  {
   "cell_type": "code",
   "execution_count": 114,
   "metadata": {
    "colab": {
     "base_uri": "https://localhost:8080/",
     "height": 253
    },
    "id": "yjc5a8lgMlt2",
    "outputId": "00812e9c-018b-4ef2-8b98-599afbe98259",
    "scrolled": true
   },
   "outputs": [],
   "source": [
    "for i in range(1,6):\n",
    "    enemy_str = 'Enemy '+str(i)\n",
    "    test = map(champ_to_value,X[enemy_str])\n",
    "    X[enemy_str] = list(test)"
   ]
  },
  {
   "cell_type": "code",
   "execution_count": 115,
   "metadata": {
    "id": "PAU6mAPMMsid"
   },
   "outputs": [
    {
     "data": {
      "text/html": [
       "<div>\n",
       "<style scoped>\n",
       "    .dataframe tbody tr th:only-of-type {\n",
       "        vertical-align: middle;\n",
       "    }\n",
       "\n",
       "    .dataframe tbody tr th {\n",
       "        vertical-align: top;\n",
       "    }\n",
       "\n",
       "    .dataframe thead th {\n",
       "        text-align: right;\n",
       "    }\n",
       "</style>\n",
       "<table border=\"1\" class=\"dataframe\">\n",
       "  <thead>\n",
       "    <tr style=\"text-align: right;\">\n",
       "      <th></th>\n",
       "      <th>Enemy 1</th>\n",
       "      <th>Enemy 2</th>\n",
       "      <th>Enemy 3</th>\n",
       "      <th>Enemy 4</th>\n",
       "      <th>Enemy 5</th>\n",
       "    </tr>\n",
       "  </thead>\n",
       "  <tbody>\n",
       "    <tr>\n",
       "      <th>0</th>\n",
       "      <td>35</td>\n",
       "      <td>39</td>\n",
       "      <td>153</td>\n",
       "      <td>50</td>\n",
       "      <td>53</td>\n",
       "    </tr>\n",
       "    <tr>\n",
       "      <th>1</th>\n",
       "      <td>31</td>\n",
       "      <td>83</td>\n",
       "      <td>118</td>\n",
       "      <td>10</td>\n",
       "      <td>70</td>\n",
       "    </tr>\n",
       "    <tr>\n",
       "      <th>2</th>\n",
       "      <td>59</td>\n",
       "      <td>65</td>\n",
       "      <td>149</td>\n",
       "      <td>49</td>\n",
       "      <td>151</td>\n",
       "    </tr>\n",
       "    <tr>\n",
       "      <th>3</th>\n",
       "      <td>77</td>\n",
       "      <td>38</td>\n",
       "      <td>26</td>\n",
       "      <td>49</td>\n",
       "      <td>71</td>\n",
       "    </tr>\n",
       "    <tr>\n",
       "      <th>4</th>\n",
       "      <td>36</td>\n",
       "      <td>147</td>\n",
       "      <td>64</td>\n",
       "      <td>154</td>\n",
       "      <td>146</td>\n",
       "    </tr>\n",
       "  </tbody>\n",
       "</table>\n",
       "</div>"
      ],
      "text/plain": [
       "   Enemy 1  Enemy 2  Enemy 3  Enemy 4  Enemy 5\n",
       "0       35       39      153       50       53\n",
       "1       31       83      118       10       70\n",
       "2       59       65      149       49      151\n",
       "3       77       38       26       49       71\n",
       "4       36      147       64      154      146"
      ]
     },
     "execution_count": 115,
     "metadata": {},
     "output_type": "execute_result"
    }
   ],
   "source": [
    "X.head()"
   ]
  },
  {
   "cell_type": "markdown",
   "metadata": {},
   "source": [
    "### Model"
   ]
  },
  {
   "cell_type": "code",
   "execution_count": null,
   "metadata": {},
   "outputs": [],
   "source": [
    "model = tf.keras.Sequential([\n",
    "    \n",
    "])"
   ]
  }
 ],
 "metadata": {
  "colab": {
   "collapsed_sections": [],
   "name": "Item_prediction.ipynb",
   "provenance": []
  },
  "kernelspec": {
   "display_name": "Python 3 (ipykernel)",
   "language": "python",
   "name": "python3"
  },
  "language_info": {
   "codemirror_mode": {
    "name": "ipython",
    "version": 3
   },
   "file_extension": ".py",
   "mimetype": "text/x-python",
   "name": "python",
   "nbconvert_exporter": "python",
   "pygments_lexer": "ipython3",
   "version": "3.8.10"
  }
 },
 "nbformat": 4,
 "nbformat_minor": 1
}
