{
 "cells": [
  {
   "cell_type": "code",
   "execution_count": 54,
   "id": "7d0dfb6b",
   "metadata": {
    "scrolled": true
   },
   "outputs": [],
   "source": [
    "from riotwatcher import LolWatcher, ApiError\n",
    "import pandas as pd"
   ]
  },
  {
   "cell_type": "code",
   "execution_count": 55,
   "id": "b9ed6136",
   "metadata": {},
   "outputs": [],
   "source": [
    "API_KEY = 'RGAPI-6ff9b227-238c-425d-8bdc-5ba9068dcd4e'\n",
    "REGION = 'euw1'\n",
    "REGION_EU = 'europe'\n",
    "\n",
    "watcher = LolWatcher(API_KEY)"
   ]
  },
  {
   "cell_type": "markdown",
   "id": "e545da6c",
   "metadata": {},
   "source": [
    "Get ID of a user"
   ]
  },
  {
   "cell_type": "code",
   "execution_count": 64,
   "id": "7c669290",
   "metadata": {},
   "outputs": [],
   "source": [
    "def get_id(summoner_name,REGION='euw1'):\n",
    "    player_id = watcher.summoner.by_name(REGION,summoner_name)[\"id\"]\n",
    "    return player_id"
   ]
  },
  {
   "cell_type": "markdown",
   "id": "6a1e770c",
   "metadata": {},
   "source": [
    "Get puuid of a user"
   ]
  },
  {
   "cell_type": "code",
   "execution_count": 65,
   "id": "cd538150",
   "metadata": {},
   "outputs": [],
   "source": [
    "def get_puuid(summoner_name,REGION='euw1'):\n",
    "    player_puuid = watcher.summoner.by_name(REGION,summoner_name)[\"puuid\"]\n",
    "    return player_puuid"
   ]
  },
  {
   "cell_type": "markdown",
   "id": "2230f0da",
   "metadata": {},
   "source": [
    " "
   ]
  },
  {
   "cell_type": "markdown",
   "id": "ac0ff95f",
   "metadata": {},
   "source": [
    "Get items from a game"
   ]
  },
  {
   "cell_type": "code",
   "execution_count": 72,
   "id": "1655c4fd",
   "metadata": {
    "scrolled": true
   },
   "outputs": [],
   "source": [
    "player_puuid = get_puuid(\"Pied à coulisse\")\n",
    "my_matches = watcher.match.matchlist_by_puuid(REGION_EU,player_puuid)"
   ]
  },
  {
   "cell_type": "code",
   "execution_count": 73,
   "id": "f735627d",
   "metadata": {
    "scrolled": true
   },
   "outputs": [
    {
     "name": "stdout",
     "output_type": "stream",
     "text": [
      "['EUW1_5700000523', 'EUW1_5699934851', 'EUW1_5699898294', 'EUW1_5699440272', 'EUW1_5699192161', 'EUW1_5697801087', 'EUW1_5697664523', 'EUW1_5697606637', 'EUW1_5697542661', 'EUW1_5697456178', 'EUW1_5695751338', 'EUW1_5693439049', 'EUW1_5693319262', 'EUW1_5693269009', 'EUW1_5692981231', 'EUW1_5692903097', 'EUW1_5680361228', 'EUW1_5680283916', 'EUW1_5676212887', 'EUW1_5676062636']\n"
     ]
    }
   ],
   "source": [
    "print(my_matches)"
   ]
  },
  {
   "cell_type": "markdown",
   "id": "6fd68ad2",
   "metadata": {},
   "source": [
    "Item ID to item name"
   ]
  },
  {
   "cell_type": "code",
   "execution_count": 134,
   "id": "80b372f5",
   "metadata": {},
   "outputs": [],
   "source": [
    "def get_item_name(item_id):\n",
    "    lastest_version = watcher.data_dragon.versions_for_region(REGION)['n']['item']\n",
    "    item_name = watcher.data_dragon.items(item_version)['data'][str(item_id)]['name']\n",
    "    return(item_name)"
   ]
  },
  {
   "cell_type": "code",
   "execution_count": 136,
   "id": "ffb891ff",
   "metadata": {},
   "outputs": [
    {
     "name": "stdout",
     "output_type": "stream",
     "text": [
      "Shadowflame\n"
     ]
    }
   ],
   "source": [
    "test_match = watcher.match.by_id(REGION_EU, my_matches[3])\n",
    "item_0 = test_match['info']['participants'][0]['item0']\n",
    "print(get_item_name(item_0))"
   ]
  }
 ],
 "metadata": {
  "kernelspec": {
   "display_name": "Python 3 (ipykernel)",
   "language": "python",
   "name": "python3"
  },
  "language_info": {
   "codemirror_mode": {
    "name": "ipython",
    "version": 3
   },
   "file_extension": ".py",
   "mimetype": "text/x-python",
   "name": "python",
   "nbconvert_exporter": "python",
   "pygments_lexer": "ipython3",
   "version": "3.8.10"
  }
 },
 "nbformat": 4,
 "nbformat_minor": 5
}
