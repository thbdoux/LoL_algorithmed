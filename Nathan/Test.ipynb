{
 "cells": [
  {
   "cell_type": "code",
   "execution_count": 1,
   "id": "727c9325",
   "metadata": {},
   "outputs": [],
   "source": [
    "import riotwatcher\n",
    "import pandas as pd"
   ]
  },
  {
   "cell_type": "code",
   "execution_count": 11,
   "id": "f98a197d",
   "metadata": {},
   "outputs": [],
   "source": [
    "API_KEY = 'RGAPI-6ff9b227-238c-425d-8bdc-5ba9068dcd4e'\n",
    "REGION = 'euw1'\n",
    "REGION_EU = 'europe'\n",
    "\n",
    "watcher = riotwatcher.LolWatcher(API_KEY)"
   ]
  },
  {
   "cell_type": "code",
   "execution_count": 29,
   "id": "cd80f7cb",
   "metadata": {},
   "outputs": [
    {
     "name": "stdout",
     "output_type": "stream",
     "text": [
      "uU3Cz4XT5ZdCHmauTW64hmokCnYkID20GesvN3TE3ZBngYM\n"
     ]
    }
   ],
   "source": [
    "player_id = watcher.summoner.by_name(REGION,'Pied à coulisse')[\"id\"]\n",
    "print(player_id)"
   ]
  },
  {
   "cell_type": "code",
   "execution_count": 33,
   "id": "64ba9f0e",
   "metadata": {},
   "outputs": [
    {
     "name": "stdout",
     "output_type": "stream",
     "text": [
      "[{'leagueId': '9338b181-7e8a-4035-8fa4-1e057fb0d99d', 'queueType': 'RANKED_SOLO_5x5', 'tier': 'BRONZE', 'rank': 'I', 'summonerId': 'uU3Cz4XT5ZdCHmauTW64hmokCnYkID20GesvN3TE3ZBngYM', 'summonerName': 'Pied à coulisse', 'leaguePoints': 47, 'wins': 9, 'losses': 2, 'veteran': False, 'inactive': False, 'freshBlood': False, 'hotStreak': False}, {'leagueId': '9f276f6c-ffb4-46c3-88fb-2d97da2a86b3', 'queueType': 'RANKED_FLEX_SR', 'tier': 'SILVER', 'rank': 'III', 'summonerId': 'uU3Cz4XT5ZdCHmauTW64hmokCnYkID20GesvN3TE3ZBngYM', 'summonerName': 'Pied à coulisse', 'leaguePoints': 80, 'wins': 8, 'losses': 11, 'veteran': False, 'inactive': False, 'freshBlood': False, 'hotStreak': False}]\n"
     ]
    }
   ],
   "source": [
    "print(watcher.league.by_summoner(REGION,player_id))"
   ]
  }
 ],
 "metadata": {
  "kernelspec": {
   "display_name": "Python 3 (ipykernel)",
   "language": "python",
   "name": "python3"
  },
  "language_info": {
   "codemirror_mode": {
    "name": "ipython",
    "version": 3
   },
   "file_extension": ".py",
   "mimetype": "text/x-python",
   "name": "python",
   "nbconvert_exporter": "python",
   "pygments_lexer": "ipython3",
   "version": "3.8.10"
  }
 },
 "nbformat": 4,
 "nbformat_minor": 5
}
